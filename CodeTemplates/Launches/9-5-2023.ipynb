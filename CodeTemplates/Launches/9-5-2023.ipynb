{
 "cells": [
  {
   "cell_type": "code",
   "execution_count": 2,
   "id": "b3774693",
   "metadata": {},
   "outputs": [],
   "source": [
    "data = {\n",
    "    1: [\"A\",\"C\",\"E\"],\n",
    "    2: ['B',\"D\",\"F\"]\n",
    "}"
   ]
  },
  {
   "cell_type": "code",
   "execution_count": 4,
   "id": "98663a04",
   "metadata": {},
   "outputs": [
    {
     "name": "stdout",
     "output_type": "stream",
     "text": [
      "A\n",
      "C\n",
      "E\n",
      "B\n",
      "D\n",
      "F\n"
     ]
    }
   ],
   "source": [
    "for d in data:\n",
    "    for v in data[d]:\n",
    "        print(v)"
   ]
  },
  {
   "cell_type": "code",
   "execution_count": null,
   "id": "0e718f8b",
   "metadata": {},
   "outputs": [],
   "source": [
    "data = {\n",
    "    \"X\": [0.5, 0.25, 0.125],\n",
    "    \"Y\": [0, 0, 0,]\n",
    "}\n",
    "for k in data:\n",
    "    for v in data[k]:\n",
    "        print(v)"
   ]
  },
  {
   "cell_type": "code",
   "execution_count": 6,
   "id": "b3518658",
   "metadata": {},
   "outputs": [
    {
     "name": "stdout",
     "output_type": "stream",
     "text": [
      "11.5\n"
     ]
    }
   ],
   "source": [
    "data = {\n",
    "    \"Cats\": [12, 10, 6, 18],\n",
    "    \"Dogs\": [35, 97, 102, 7]\n",
    "}\n",
    "\n",
    "avg = sum(data[\"Cats\"])/ len(data['Cats'])\n",
    "print(avg)"
   ]
  }
 ],
 "metadata": {
  "kernelspec": {
   "display_name": "Python 3 (ipykernel)",
   "language": "python",
   "name": "python3"
  },
  "language_info": {
   "codemirror_mode": {
    "name": "ipython",
    "version": 3
   },
   "file_extension": ".py",
   "mimetype": "text/x-python",
   "name": "python",
   "nbconvert_exporter": "python",
   "pygments_lexer": "ipython3",
   "version": "3.9.13"
  }
 },
 "nbformat": 4,
 "nbformat_minor": 5
}
