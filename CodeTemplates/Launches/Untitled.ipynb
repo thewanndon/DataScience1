{
 "cells": [
  {
   "cell_type": "code",
   "execution_count": 8,
   "id": "9b1ce655",
   "metadata": {},
   "outputs": [
    {
     "name": "stdout",
     "output_type": "stream",
     "text": [
      "A\n",
      "B\n",
      "C\n",
      "D\n",
      "E\n",
      "F\n"
     ]
    }
   ],
   "source": [
    "data = {\n",
    "    1: ['A','C','E'],\n",
    "    2: ['B', 'D', 'F']\n",
    "}\n",
    "\n",
    "for i in range (3):\n",
    "    for x in data:\n",
    "        print(data[x][i])"
   ]
  }
 ],
 "metadata": {
  "kernelspec": {
   "display_name": "Python 3 (ipykernel)",
   "language": "python",
   "name": "python3"
  },
  "language_info": {
   "codemirror_mode": {
    "name": "ipython",
    "version": 3
   },
   "file_extension": ".py",
   "mimetype": "text/x-python",
   "name": "python",
   "nbconvert_exporter": "python",
   "pygments_lexer": "ipython3",
   "version": "3.9.13"
  }
 },
 "nbformat": 4,
 "nbformat_minor": 5
}
