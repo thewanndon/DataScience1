{
 "cells": [
  {
   "cell_type": "code",
   "execution_count": null,
   "id": "088cfaac",
   "metadata": {},
   "outputs": [],
   "source": [
    "import pandas as pd"
   ]
  },
  {
   "cell_type": "code",
   "execution_count": null,
   "id": "0dc7b1e0",
   "metadata": {},
   "outputs": [],
   "source": [
    "pies = {}\n",
    "\n",
    "na = pies.isna()\n",
    "for c, l in na.items():\n",
    "    for i in range(len(l)):\n",
    "        if l[i]:\n",
    "            print(str(c),str(i+1))"
   ]
  }
 ],
 "metadata": {
  "kernelspec": {
   "display_name": "Python 3 (ipykernel)",
   "language": "python",
   "name": "python3"
  },
  "language_info": {
   "codemirror_mode": {
    "name": "ipython",
    "version": 3
   },
   "file_extension": ".py",
   "mimetype": "text/x-python",
   "name": "python",
   "nbconvert_exporter": "python",
   "pygments_lexer": "ipython3",
   "version": "3.9.13"
  }
 },
 "nbformat": 4,
 "nbformat_minor": 5
}
