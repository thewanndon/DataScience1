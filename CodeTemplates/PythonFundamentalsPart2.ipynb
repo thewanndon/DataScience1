{
 "cells": [
  {
   "cell_type": "code",
   "execution_count": 1,
   "id": "095c7fca",
   "metadata": {},
   "outputs": [],
   "source": [
    "data1 = {\n",
    "    \"Name\": [\"Edward Teach\", \"Anne Bonny\", \"John Rackham\", \"Cheung Po Tsai\", \"Grace O'Malley\", \"Mary Read\", \"Sayyida al Hurra\", \"Zheung Yi Sao\", \"Francis Drake\", \"Jean Lafitte\"],\n",
    "    \"Years Active\": [\"1716 - 1718\", \"1718 - 1720\", \"1718 - 1720\", \"1798 - 1810\", \"1564 - 1595\", \"1708 - 1721\",\"1515 - 1545\",\"1801 - 1810\",\"1563 - 1596\",\"1810 - 1823\"],\n",
    "    \"Sailed\": [\"Caribbean\",\"Caribbean\",\"Caribbean\",\"South China Sea\", \"British Isles\", \"Caribbean\", \"MEditerranean\", \"South China Sea\", \"Caribbean\", \"Gulf of Mexico\"],\n",
    "    \"Alias\": [\"Blackbeard\", \"\", \"Calico Jack\", \"The Kid\", \"Queen of Ireland\", \"Mark\", \"Hakimat Titwan\", \"Ching Shih\", \"Sir Francis Drake\", \"Terror of the Gulf\"]\n",
    "}\n",
    "\n",
    "data2 = {\n",
    "    \"Edward Teach\": [\"1716 - 1718\", \"Caribbean\", \"Blackbeard\"],\n",
    "    \"Anne Bonny\": [\"1718 - 1720\", \"Caribbean\", \"\"],\n",
    "    \"John Rackham\": [\"1718 - 1720\", \"Caribbean\", \"Calico Jack\"],\n",
    "    \"Cheung Po Tsai\": [\"1798 - 1810\", \"South China Sea\", \"The Kid\"],\n",
    "    \"Grace O'Malley\": [\"1564 - 1595\", \"British Isles\", \"Queen of Ireland\"],\n",
    "    \"Mary Read\": [\"1708 - 1721\", \"Caribbean\", \"Mark\"],\n",
    "    \"Sayyida al Hurra\": [\"1515 - 1545\", \"Mediterranean\", \"Hakimat Titwan\"],\n",
    "    \"Zheung Yi Sao\": [\"1801 - 1810\", \"South China Sea\", \"Ching Shih\"],\n",
    "    \"Francis Drake\": [\"1563 - 1596\", \"Caribbean\", \"Sir Francis Drake\"],\n",
    "    \"Jean Lafitte\": [\"1810 - 1823\", \"Gulf of Mexico\", \"Terror of the Gulf\"]\n",
    "}\n",
    "\n",
    "pirates = {\n",
    "    \"Pirate\":[\"Blackbeard\", \"Anne Bonny\", \"Calico Jack\", \"Cheung Po Tsai\", \"Grace O'Malley\", \"Mary Read\", \"Sayyida al Hurra\", \"Ching Shih\", \"Sir Francis Drake\", \"Jean Lafittte\"],\n",
    "    \"Sex\":[\"M\", \"F\", \"M\", \"M\", \"F\", \"F\", \"F\", \"F\", \"M\", \"M\"],\n",
    "    \"Age at Death\":[40, 24, 37, 39, 73, 36, 75, 69, 56, 46],\n",
    "    \"Height\":[6.4, 5.6, 5.6, 5.3, 5.0, 5.1, 0, 5.3, 5.5, 6.2],\n",
    "    \"Skull and Crossbones\":[False, True, True, False, False, True, False, False, False, False]\n",
    "}"
   ]
  },
  {
   "cell_type": "code",
   "execution_count": 2,
   "id": "487beced",
   "metadata": {},
   "outputs": [
    {
     "name": "stdout",
     "output_type": "stream",
     "text": [
      "4 pirates active in the 18th century.\n"
     ]
    }
   ],
   "source": [
    "count = 0\n",
    "for i in range(len(data1['Sailed'])):\n",
    "    if data1[\"Sailed\"][i] == \"Caribbean\":\n",
    "        yearSep = data1['Years Active'][i].split(\" - \")\n",
    "        for year in yearSep:\n",
    "            yearInt = int(year)\n",
    "            if yearInt >= 1700 and yearInt < 1800:\n",
    "                count+=1\n",
    "                break\n",
    "\n",
    "print(str(count)+\" pirates active in the 18th century.\")\n",
    "    "
   ]
  },
  {
   "cell_type": "code",
   "execution_count": 3,
   "id": "33f526c5",
   "metadata": {},
   "outputs": [
    {
     "name": "stdout",
     "output_type": "stream",
     "text": [
      "Francis Drake had the longest career with 33 years.\n"
     ]
    }
   ],
   "source": [
    "p = \"\"\n",
    "yLength = 0\n",
    "for i in range(len(data1['Name'])):\n",
    "    yearSep = data1['Years Active'][i].split(\" - \")\n",
    "    yearStart = int(yearSep[0])\n",
    "    yearEnd = int(yearSep[1])\n",
    "    totalYears = yearEnd-yearStart\n",
    "    if totalYears > yLength:\n",
    "        p = data1['Name'][i]\n",
    "        yLength = totalYears\n",
    "\n",
    "print(p+\" had the longest career with \"+str(yLength)+\" years.\")"
   ]
  },
  {
   "cell_type": "code",
   "execution_count": 4,
   "id": "06823d46",
   "metadata": {},
   "outputs": [
    {
     "name": "stdout",
     "output_type": "stream",
     "text": [
      "14.7 years was the average amount of years for an active pirate.\n"
     ]
    }
   ],
   "source": [
    "yearsTotal = 0\n",
    "pCount = 0\n",
    "for i in range(len(data1['Name'])):\n",
    "    pCount+=1\n",
    "    yearSep = data1['Years Active'][i].split(\" - \")\n",
    "    yearsTotal+=int(yearSep[1])- int(yearSep[0])\n",
    "print(str(yearsTotal/pCount)+\" years was the average amount of years for an active pirate.\")"
   ]
  },
  {
   "cell_type": "code",
   "execution_count": 5,
   "id": "1fa14187",
   "metadata": {},
   "outputs": [
    {
     "name": "stdout",
     "output_type": "stream",
     "text": [
      "Edward Teach 1716 - 1718 Caribbean Blackbeard M 40 6.4 False \n",
      "Anne Bonny 1718 - 1720 Caribbean  F 24 5.6 True \n",
      "John Rackham 1718 - 1720 Caribbean Calico Jack M 37 5.6 True \n",
      "Cheung Po Tsai 1798 - 1810 South China Sea The Kid M 39 5.3 False \n",
      "Grace O'Malley 1564 - 1595 British Isles Queen of Ireland F 73 5.0 False \n",
      "Mary Read 1708 - 1721 Caribbean Mark F 36 5.1 True \n",
      "Sayyida al Hurra 1515 - 1545 MEditerranean Hakimat Titwan F 75 0 False \n",
      "Zheung Yi Sao 1801 - 1810 South China Sea Ching Shih F 69 5.3 False \n",
      "Francis Drake 1563 - 1596 Caribbean Sir Francis Drake M 56 5.5 False \n",
      "Jean Lafitte 1810 - 1823 Gulf of Mexico Terror of the Gulf M 46 6.2 False \n"
     ]
    }
   ],
   "source": [
    "mergedData = data1\n",
    "\n",
    "for k, v in pirates.items():\n",
    "    if k!=\"Pirate\":\n",
    "        mergedData[k] = v\n",
    "        \n",
    "for i in range(len(mergedData['Name'])):\n",
    "    st = \"\"\n",
    "    for k, v in mergedData.items():\n",
    "        st = st + str(v[i])+\" \"\n",
    "    print(st)"
   ]
  },
  {
   "cell_type": "code",
   "execution_count": null,
   "id": "d71a9cd3",
   "metadata": {},
   "outputs": [],
   "source": []
  }
 ],
 "metadata": {
  "kernelspec": {
   "display_name": "Python 3 (ipykernel)",
   "language": "python",
   "name": "python3"
  },
  "language_info": {
   "codemirror_mode": {
    "name": "ipython",
    "version": 3
   },
   "file_extension": ".py",
   "mimetype": "text/x-python",
   "name": "python",
   "nbconvert_exporter": "python",
   "pygments_lexer": "ipython3",
   "version": "3.9.13"
  }
 },
 "nbformat": 4,
 "nbformat_minor": 5
}
