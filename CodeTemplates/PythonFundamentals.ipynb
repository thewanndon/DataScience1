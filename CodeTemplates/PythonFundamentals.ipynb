{
 "cells": [
  {
   "cell_type": "code",
   "execution_count": 1,
   "id": "3529db6d",
   "metadata": {},
   "outputs": [],
   "source": [
    "pirateList = [{\"Name\": \"Blackbeard\", \"Sex\": \"M\", \"Age at Death\": 40, \"Height\": 6.4, \"Skull and Bones\": False},\n",
    "             {\"Name\": \"Anne Bonny\", \"Sex\": \"F\", \"Age at Death\": 24, \"Height\": 5.6, \"Skull and Bones\": True},\n",
    "              {\"Name\": \"Calico Jack\", \"Sex\": \"M\", \"Age at Death\": 37, \"Height\": 5.6, \"Skull and Bones\": True},\n",
    "              {\"Name\": \"Cheung Po Tsai\", \"Sex\": \"M\", \"Age at Death\": 39, \"Height\": 5.3, \"Skull and Bones\": False},\n",
    "              {\"Name\": \"Grace O'Malley\", \"Sex\": \"F\", \"Age at Death\": 73, \"Height\": 5.0, \"Skull and Bones\": False},\n",
    "              {\"Name\": \"Mary Read\", \"Sex\": \"F\", \"Age at Death\": 36, \"Height\": 5.1, \"Skull and Bones\": True},\n",
    "              {\"Name\": \"Sayyida al Hurra\", \"Sex\": \"F\", \"Age at Death\": 75, \"Height\": None, \"Skull and Bones\": False},\n",
    "              {\"Name\": \"Ching Shih\", \"Sex\": \"F\", \"Age at Death\": 69, \"Height\": 5.3, \"Skull and Bones\": False},\n",
    "              {\"Name\": \"Sir Francis Drake\", \"Sex\": \"M\", \"Age at Death\": 56, \"Height\": 5.5, \"Skull and Bones\": False},\n",
    "              {\"Name\": \"Jean Lafitte\", \"Sex\": \"M\", \"Age at Death\": 46, \"Height\": 6.2, \"Skull and Bones\": False}\n",
    "             ]"
   ]
  },
  {
   "cell_type": "code",
   "execution_count": 2,
   "id": "8c4b932a",
   "metadata": {},
   "outputs": [
    {
     "name": "stdout",
     "output_type": "stream",
     "text": [
      "Name: Blackbeard\n",
      "Sex: M\n",
      "Age at Death: 40\n",
      "Height: 6.4\n",
      "Skull and Bones: False\n"
     ]
    }
   ],
   "source": [
    "for k, v in pirateList[0].items():\n",
    "    print(k+\": \"+str(v))"
   ]
  },
  {
   "cell_type": "code",
   "execution_count": 3,
   "id": "cdd4913f",
   "metadata": {},
   "outputs": [
    {
     "name": "stdout",
     "output_type": "stream",
     "text": [
      "False\n",
      "False\n",
      "False\n",
      "False\n",
      "True\n",
      "False\n",
      "False\n",
      "True\n",
      "True\n"
     ]
    }
   ],
   "source": [
    "for i in range(0, len(pirateList)-1):\n",
    "    print(pirateList[len(pirateList)-1-i]['Skull and Bones'])"
   ]
  },
  {
   "cell_type": "code",
   "execution_count": 4,
   "id": "cd7dd200",
   "metadata": {},
   "outputs": [
    {
     "name": "stdout",
     "output_type": "stream",
     "text": [
      "Name: Blackbeard\n",
      "Sex: M\n",
      "Age at Death: 40\n",
      "Height: 6.4\n",
      "Skull and Bones: False\n",
      "Name: Calico Jack\n",
      "Sex: M\n",
      "Age at Death: 37\n",
      "Height: 5.6\n",
      "Skull and Bones: True\n",
      "Name: Grace O'Malley\n",
      "Sex: F\n",
      "Age at Death: 73\n",
      "Height: 5.0\n",
      "Skull and Bones: False\n",
      "Name: Sayyida al Hurra\n",
      "Sex: F\n",
      "Age at Death: 75\n",
      "Height: None\n",
      "Skull and Bones: False\n",
      "Name: Sir Francis Drake\n",
      "Sex: M\n",
      "Age at Death: 56\n",
      "Height: 5.5\n",
      "Skull and Bones: False\n"
     ]
    }
   ],
   "source": [
    "for i in range(0, int(len(pirateList)/2)):\n",
    "    for k, v in pirateList[i*2].items():\n",
    "        print(k+\": \"+str(v))"
   ]
  }
 ],
 "metadata": {
  "kernelspec": {
   "display_name": "Python 3 (ipykernel)",
   "language": "python",
   "name": "python3"
  },
  "language_info": {
   "codemirror_mode": {
    "name": "ipython",
    "version": 3
   },
   "file_extension": ".py",
   "mimetype": "text/x-python",
   "name": "python",
   "nbconvert_exporter": "python",
   "pygments_lexer": "ipython3",
   "version": "3.9.13"
  }
 },
 "nbformat": 4,
 "nbformat_minor": 5
}
