{
 "cells": [
  {
   "cell_type": "code",
   "execution_count": 1,
   "metadata": {
    "id": "bIBt_FTuvB7O"
   },
   "outputs": [],
   "source": [
    "pirates = {\n",
    "    \"Pirate\":[\"Blackbeard\", \"Anne Bonny\", \"Calico Jack\", \"Cheung Po Tsai\", \"Grace O'Malley\", \"Mary Read\", \"Sayyida al Hurra\", \"Ching Shih\", \"Sir Francis Drake\", \"Jean Lafittte\"],\n",
    "    \"Sex\":[\"M\", \"F\", \"M\", \"M\", \"F\", \"F\", \"F\", \"F\", \"M\", \"M\"],\n",
    "    \"Age at Death\":[40, 24, 37, 39, 73, 36, 75, 69, 56, 46],\n",
    "    \"Height\":[6.4, 5.6, 5.6, 5.3, 5.0, 5.1, 0, 5.3, 5.5, 6.2],\n",
    "    \"Skull and Crossbones\":[False, True, True, False, False, True, False, False, False, False]\n",
    "}"
   ]
  },
  {
   "cell_type": "code",
   "execution_count": 2,
   "metadata": {},
   "outputs": [
    {
     "name": "stdout",
     "output_type": "stream",
     "text": [
      "Blackbeard M 40 6.4 False \n"
     ]
    }
   ],
   "source": [
    "st = \"\"\n",
    "for v in pirates.values():\n",
    "    st = st + str(v[0]) + \" \"\n",
    "print(st)"
   ]
  },
  {
   "cell_type": "code",
   "execution_count": 3,
   "metadata": {},
   "outputs": [
    {
     "name": "stdout",
     "output_type": "stream",
     "text": [
      "False\n",
      "False\n",
      "False\n",
      "False\n",
      "True\n",
      "False\n",
      "False\n",
      "True\n",
      "True\n",
      "False\n"
     ]
    }
   ],
   "source": [
    "lastColumn = pirates['Skull and Crossbones']\n",
    "for i in range(0, len(lastColumn)):\n",
    "    print(lastColumn[len(lastColumn)-1-i])"
   ]
  },
  {
   "cell_type": "code",
   "execution_count": 4,
   "metadata": {},
   "outputs": [
    {
     "name": "stdout",
     "output_type": "stream",
     "text": [
      "Blackbeard 40 False \n",
      "Anne Bonny 24 True \n",
      "Calico Jack 37 True \n",
      "Cheung Po Tsai 39 False \n",
      "Grace O'Malley 73 False \n",
      "Mary Read 36 True \n",
      "Sayyida al Hurra 75 False \n",
      "Ching Shih 69 False \n",
      "Sir Francis Drake 56 False \n",
      "Jean Lafittte 46 False \n"
     ]
    }
   ],
   "source": [
    "for i in range(0, len(pirates['Pirate'])):\n",
    "    iteration = 0\n",
    "    st = \"\"\n",
    "    for k, v in pirates.items():\n",
    "        if iteration%2==0:\n",
    "            st = st + str(v[i]) + \" \"\n",
    "        iteration+=1\n",
    "    print(st)"
   ]
  },
  {
   "cell_type": "code",
   "execution_count": 5,
   "metadata": {},
   "outputs": [
    {
     "name": "stdout",
     "output_type": "stream",
     "text": [
      "3\n"
     ]
    }
   ],
   "source": [
    "cnt = 0\n",
    "for v in pirates['Skull and Crossbones']:\n",
    "    if v:\n",
    "        cnt+=1\n",
    "print(cnt)"
   ]
  },
  {
   "cell_type": "code",
   "execution_count": 6,
   "metadata": {},
   "outputs": [
    {
     "name": "stdout",
     "output_type": "stream",
     "text": [
      "Female pirates live longer\n"
     ]
    }
   ],
   "source": [
    "maleTotal = 0\n",
    "femaleTotal = 0\n",
    "maleCount = 0\n",
    "femaleCount = 0\n",
    "for i in range(0, len(pirates['Pirate'])):\n",
    "    if pirates['Sex'][i] == \"M\":\n",
    "        maleCount+=1\n",
    "        maleTotal+=pirates['Age at Death'][i]\n",
    "    else:\n",
    "        femaleCount+=1\n",
    "        femaleTotal+=pirates['Age at Death'][i]\n",
    "        \n",
    "maleAverage = maleTotal/maleCount\n",
    "femaleAverage = femaleTotal/femaleCount\n",
    "\n",
    "if maleAverage > femaleAverage:\n",
    "    print(\"Male pirates live longer\")\n",
    "elif maleAverage < femaleAverage:\n",
    "    print(\"Female pirates live longer\")\n",
    "else:\n",
    "    print(\"Both genders live around the same age\")"
   ]
  },
  {
   "cell_type": "code",
   "execution_count": 7,
   "metadata": {},
   "outputs": [
    {
     "name": "stdout",
     "output_type": "stream",
     "text": [
      "20.0% of pirates are 6 feet or taller\n"
     ]
    }
   ],
   "source": [
    "totalPirates = 0\n",
    "tallerPirates = 0\n",
    "\n",
    "for i in range(0, len(pirates['Height'])):\n",
    "    totalPirates+=1\n",
    "    if float(pirates['Height'][i]) >= 6:\n",
    "        tallerPirates+=1\n",
    "\n",
    "print(str(tallerPirates/totalPirates*100)+ \"% of pirates are 6 feet or taller\")"
   ]
  },
  {
   "cell_type": "code",
   "execution_count": null,
   "metadata": {},
   "outputs": [],
   "source": []
  }
 ],
 "metadata": {
  "colab": {
   "provenance": []
  },
  "kernelspec": {
   "display_name": "Python 3 (ipykernel)",
   "language": "python",
   "name": "python3"
  },
  "language_info": {
   "codemirror_mode": {
    "name": "ipython",
    "version": 3
   },
   "file_extension": ".py",
   "mimetype": "text/x-python",
   "name": "python",
   "nbconvert_exporter": "python",
   "pygments_lexer": "ipython3",
   "version": "3.9.13"
  }
 },
 "nbformat": 4,
 "nbformat_minor": 1
}
