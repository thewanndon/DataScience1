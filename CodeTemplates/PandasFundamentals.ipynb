{
 "cells": [
  {
   "cell_type": "code",
   "execution_count": 1,
   "id": "28dce909",
   "metadata": {},
   "outputs": [
    {
     "data": {
      "text/plain": [
       "'1.4.4'"
      ]
     },
     "execution_count": 1,
     "metadata": {},
     "output_type": "execute_result"
    }
   ],
   "source": [
    "import pandas\n",
    "pandas.__version__"
   ]
  },
  {
   "cell_type": "code",
   "execution_count": 2,
   "id": "fff53e1f",
   "metadata": {},
   "outputs": [],
   "source": [
    "data = pandas.read_csv(\"pirates.csv\")"
   ]
  },
  {
   "cell_type": "code",
   "execution_count": 3,
   "id": "06216436",
   "metadata": {},
   "outputs": [
    {
     "data": {
      "text/html": [
       "<div>\n",
       "<style scoped>\n",
       "    .dataframe tbody tr th:only-of-type {\n",
       "        vertical-align: middle;\n",
       "    }\n",
       "\n",
       "    .dataframe tbody tr th {\n",
       "        vertical-align: top;\n",
       "    }\n",
       "\n",
       "    .dataframe thead th {\n",
       "        text-align: right;\n",
       "    }\n",
       "</style>\n",
       "<table border=\"1\" class=\"dataframe\">\n",
       "  <thead>\n",
       "    <tr style=\"text-align: right;\">\n",
       "      <th></th>\n",
       "      <th>id</th>\n",
       "      <th>sex</th>\n",
       "      <th>age</th>\n",
       "      <th>height</th>\n",
       "      <th>weight</th>\n",
       "      <th>headband</th>\n",
       "      <th>college</th>\n",
       "      <th>tattoos</th>\n",
       "      <th>tchests</th>\n",
       "      <th>parrots</th>\n",
       "      <th>favorite.pirate</th>\n",
       "      <th>sword.type</th>\n",
       "      <th>eyepatch</th>\n",
       "      <th>sword.time</th>\n",
       "      <th>beard.length</th>\n",
       "      <th>fav.pixar</th>\n",
       "      <th>grogg</th>\n",
       "    </tr>\n",
       "  </thead>\n",
       "  <tbody>\n",
       "    <tr>\n",
       "      <th>0</th>\n",
       "      <td>1</td>\n",
       "      <td>male</td>\n",
       "      <td>28.0</td>\n",
       "      <td>173.11</td>\n",
       "      <td>70.5</td>\n",
       "      <td>yes</td>\n",
       "      <td>JSSFP</td>\n",
       "      <td>9</td>\n",
       "      <td>0</td>\n",
       "      <td>0</td>\n",
       "      <td>Jack Sparrow</td>\n",
       "      <td>cutlass</td>\n",
       "      <td>1</td>\n",
       "      <td>0.58</td>\n",
       "      <td>16</td>\n",
       "      <td>Monsters, Inc.</td>\n",
       "      <td>11</td>\n",
       "    </tr>\n",
       "    <tr>\n",
       "      <th>1</th>\n",
       "      <td>2</td>\n",
       "      <td>male</td>\n",
       "      <td>31.0</td>\n",
       "      <td>209.25</td>\n",
       "      <td>105.6</td>\n",
       "      <td>yes</td>\n",
       "      <td>JSSFP</td>\n",
       "      <td>9</td>\n",
       "      <td>11</td>\n",
       "      <td>0</td>\n",
       "      <td>Jack Sparrow</td>\n",
       "      <td>cutlass</td>\n",
       "      <td>0</td>\n",
       "      <td>1.11</td>\n",
       "      <td>21</td>\n",
       "      <td>WALL-E</td>\n",
       "      <td>9</td>\n",
       "    </tr>\n",
       "    <tr>\n",
       "      <th>2</th>\n",
       "      <td>3</td>\n",
       "      <td>male</td>\n",
       "      <td>26.0</td>\n",
       "      <td>169.95</td>\n",
       "      <td>77.1</td>\n",
       "      <td>yes</td>\n",
       "      <td>CCCC</td>\n",
       "      <td>10</td>\n",
       "      <td>10</td>\n",
       "      <td>1</td>\n",
       "      <td>Jack Sparrow</td>\n",
       "      <td>cutlass</td>\n",
       "      <td>1</td>\n",
       "      <td>1.44</td>\n",
       "      <td>19</td>\n",
       "      <td>Inside Out</td>\n",
       "      <td>7</td>\n",
       "    </tr>\n",
       "    <tr>\n",
       "      <th>3</th>\n",
       "      <td>4</td>\n",
       "      <td>female</td>\n",
       "      <td>31.0</td>\n",
       "      <td>144.29</td>\n",
       "      <td>58.5</td>\n",
       "      <td>no</td>\n",
       "      <td>JSSFP</td>\n",
       "      <td>2</td>\n",
       "      <td>0</td>\n",
       "      <td>2</td>\n",
       "      <td>Jack Sparrow</td>\n",
       "      <td>scimitar</td>\n",
       "      <td>1</td>\n",
       "      <td>36.11</td>\n",
       "      <td>2</td>\n",
       "      <td>Inside Out</td>\n",
       "      <td>9</td>\n",
       "    </tr>\n",
       "    <tr>\n",
       "      <th>4</th>\n",
       "      <td>5</td>\n",
       "      <td>female</td>\n",
       "      <td>41.0</td>\n",
       "      <td>157.85</td>\n",
       "      <td>58.4</td>\n",
       "      <td>yes</td>\n",
       "      <td>JSSFP</td>\n",
       "      <td>9</td>\n",
       "      <td>6</td>\n",
       "      <td>4</td>\n",
       "      <td>Hook</td>\n",
       "      <td>cutlass</td>\n",
       "      <td>1</td>\n",
       "      <td>0.11</td>\n",
       "      <td>0</td>\n",
       "      <td>Inside Out</td>\n",
       "      <td>14</td>\n",
       "    </tr>\n",
       "  </tbody>\n",
       "</table>\n",
       "</div>"
      ],
      "text/plain": [
       "   id     sex   age  height  weight headband college  tattoos  tchests  \\\n",
       "0   1    male  28.0  173.11    70.5      yes   JSSFP        9        0   \n",
       "1   2    male  31.0  209.25   105.6      yes   JSSFP        9       11   \n",
       "2   3    male  26.0  169.95    77.1      yes    CCCC       10       10   \n",
       "3   4  female  31.0  144.29    58.5       no   JSSFP        2        0   \n",
       "4   5  female  41.0  157.85    58.4      yes   JSSFP        9        6   \n",
       "\n",
       "  parrots favorite.pirate sword.type  eyepatch  sword.time  beard.length  \\\n",
       "0       0    Jack Sparrow    cutlass         1        0.58            16   \n",
       "1       0    Jack Sparrow    cutlass         0        1.11            21   \n",
       "2       1    Jack Sparrow    cutlass         1        1.44            19   \n",
       "3       2    Jack Sparrow   scimitar         1       36.11             2   \n",
       "4       4            Hook    cutlass         1        0.11             0   \n",
       "\n",
       "        fav.pixar  grogg  \n",
       "0  Monsters, Inc.     11  \n",
       "1          WALL-E      9  \n",
       "2      Inside Out      7  \n",
       "3      Inside Out      9  \n",
       "4      Inside Out     14  "
      ]
     },
     "execution_count": 3,
     "metadata": {},
     "output_type": "execute_result"
    }
   ],
   "source": [
    "data.head(5)"
   ]
  },
  {
   "cell_type": "code",
   "execution_count": 4,
   "id": "d3df9ced",
   "metadata": {},
   "outputs": [
    {
     "data": {
      "text/plain": [
       "1000"
      ]
     },
     "execution_count": 4,
     "metadata": {},
     "output_type": "execute_result"
    }
   ],
   "source": [
    "data.shape[0]"
   ]
  },
  {
   "cell_type": "code",
   "execution_count": 5,
   "id": "24d0be4f",
   "metadata": {},
   "outputs": [],
   "source": [
    "## Integer values are found in the parrots column because it expresses how many parrots that pirate has."
   ]
  },
  {
   "cell_type": "code",
   "execution_count": 10,
   "id": "51bdad8a",
   "metadata": {},
   "outputs": [],
   "source": [
    "for i, s in data.iterrows():\n",
    "    for v in s:\n",
    "        if type(v) == type(None) or v == \"\":\n",
    "            print(\"Row\" + str(i) + \"Column\" + s[0])"
   ]
  },
  {
   "cell_type": "code",
   "execution_count": 11,
   "id": "39d83b39",
   "metadata": {},
   "outputs": [
    {
     "name": "stdout",
     "output_type": "stream",
     "text": [
      "<class 'pandas.core.frame.DataFrame'>\n",
      "RangeIndex: 1000 entries, 0 to 999\n",
      "Data columns (total 17 columns):\n",
      " #   Column           Non-Null Count  Dtype  \n",
      "---  ------           --------------  -----  \n",
      " 0   id               1000 non-null   int64  \n",
      " 1   sex              1000 non-null   object \n",
      " 2   age              999 non-null    float64\n",
      " 3   height           1000 non-null   float64\n",
      " 4   weight           1000 non-null   float64\n",
      " 5   headband         999 non-null    object \n",
      " 6   college          1000 non-null   object \n",
      " 7   tattoos          1000 non-null   int64  \n",
      " 8   tchests          1000 non-null   int64  \n",
      " 9   parrots          1000 non-null   object \n",
      " 10  favorite.pirate  999 non-null    object \n",
      " 11  sword.type       1000 non-null   object \n",
      " 12  eyepatch         1000 non-null   int64  \n",
      " 13  sword.time       999 non-null    float64\n",
      " 14  beard.length     1000 non-null   int64  \n",
      " 15  fav.pixar        1000 non-null   object \n",
      " 16  grogg            1000 non-null   int64  \n",
      "dtypes: float64(4), int64(6), object(7)\n",
      "memory usage: 132.9+ KB\n"
     ]
    }
   ],
   "source": [
    "data.info()"
   ]
  },
  {
   "cell_type": "code",
   "execution_count": null,
   "id": "6250fcc5",
   "metadata": {},
   "outputs": [],
   "source": []
  }
 ],
 "metadata": {
  "kernelspec": {
   "display_name": "Python 3 (ipykernel)",
   "language": "python",
   "name": "python3"
  },
  "language_info": {
   "codemirror_mode": {
    "name": "ipython",
    "version": 3
   },
   "file_extension": ".py",
   "mimetype": "text/x-python",
   "name": "python",
   "nbconvert_exporter": "python",
   "pygments_lexer": "ipython3",
   "version": "3.9.13"
  }
 },
 "nbformat": 4,
 "nbformat_minor": 5
}
